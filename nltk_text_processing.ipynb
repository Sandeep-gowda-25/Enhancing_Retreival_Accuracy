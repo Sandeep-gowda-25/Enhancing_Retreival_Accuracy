{
 "cells": [
  {
   "cell_type": "markdown",
   "id": "abb0e3b9-0630-42ab-84f1-b544551b296b",
   "metadata": {},
   "source": [
    "# Enhancing Data Retreival Accuracy\n",
    "\n",
    "### Including Traditional NLP tasks in RAG Applications\n",
    "\n",
    "## This contains comparision on Retrieval accuracy with usual approach of embeddings against additional NLP processing"
   ]
  },
  {
   "cell_type": "markdown",
   "id": "044aadf5-93ef-462e-aea3-d741d46ca06f",
   "metadata": {},
   "source": [
    "#### I added helper codes to read data and to create embeddings and storing it to vector db in python scripts and imported same here"
   ]
  },
  {
   "cell_type": "code",
   "execution_count": 1,
   "id": "88c93d91-5d72-4e79-83de-3b5c302ca931",
   "metadata": {},
   "outputs": [],
   "source": [
    "from helper.docs_helper import load_data, chunk_data\n",
    "from handle_vectors import create_embeddings,store_vectors_unaltered,create_vectors"
   ]
  },
  {
   "cell_type": "code",
   "execution_count": 2,
   "id": "7da52ea8-0f09-4807-b0ed-e6ee48027e31",
   "metadata": {},
   "outputs": [],
   "source": [
    "#read data from given path\n",
    "pdf_contents = load_data(path=\"data/Mahabharata.pdf\")"
   ]
  },
  {
   "cell_type": "code",
   "execution_count": 3,
   "id": "0c289e6d-b7be-42a2-a365-6a595524d594",
   "metadata": {},
   "outputs": [],
   "source": [
    "#create chunks for data read from pdf\n",
    "chunks = chunk_data(pdf_contents)\n",
    "#create embeddings and structure for vectore storage\n",
    "vectors = create_vectors(text_chunks=chunks)"
   ]
  },
  {
   "cell_type": "code",
   "execution_count": 4,
   "id": "9762a4fd-a67e-4113-8f3a-f5ddd464d5fa",
   "metadata": {},
   "outputs": [
    {
     "name": "stdout",
     "output_type": "stream",
     "text": [
      "63\n"
     ]
    },
    {
     "data": {
      "text/plain": [
       "{'text': 'Mahabharata\\nManuscript illustration of the Battle of\\nKurukshetra\\nInformation\\nReligion Hinduism\\nAuthor Vyasa\\nLanguageSanskrit\\nPeriod Principally compiled in 3rd century\\nBCE–4th century CE\\nChapters 18 Parvas\\nVerses 200,000\\nFull text\\nMahabharata at Sanskrit Wikisource\\n Mahabharata at English Wikisource\\nKrishna and Arjuna at Kurukshetra,\\n18th–19th-century painting\\nModern depiction of Vyasa narrating\\nthe Mahābhārata to Ganesha at the\\nMurudeshwara temple, Karnataka.\\nMahabharata\\nThe Mahābhārata (/məˌhɑːˈbɑː rətə, ˌmɑːhə-/ m ə -HAH-BAR- ə -t ə , MAH-\\nh ə -;[1][2][3][4] Sanskrit: म ह ा भ ा र त म ् , IAST: Mahābhāratam, pronounced\\n[m ɐɦ a ːˈ b ʱ a ː r ɐt̪ɐ m]) is one of the two major Smriti texts and Sanskrit epics of\\nancient India revered in Hinduism, the other being the Rāmāya ṇ a.[5] It narratesthe events and aftermath of the Kurukshetra War, a war of succession between\\ntwo groups of princely cousins, the Kauravas and the Pā ṇḍ avas.'}"
      ]
     },
     "execution_count": 4,
     "metadata": {},
     "output_type": "execute_result"
    }
   ],
   "source": [
    "print(len(vectors))\n",
    "vectors[0][\"metadata\"]"
   ]
  },
  {
   "cell_type": "code",
   "execution_count": 5,
   "id": "262391b9-0051-4285-a1b9-fc117765ed8b",
   "metadata": {},
   "outputs": [],
   "source": [
    "#to store above created vectors to vetor db(PineCone)\n",
    "index = store_vectors_unaltered(vectors)"
   ]
  },
  {
   "cell_type": "markdown",
   "id": "82b6bdc8-64b5-4b11-9520-d33e104ebd1a",
   "metadata": {},
   "source": [
    "##### on executing above cell, vectors will be stored in PineCone vector db, under Index \"mahabharata\" and name space \"unaltered\""
   ]
  },
  {
   "cell_type": "markdown",
   "id": "78f0f3f8-e50d-41c8-bb4b-313b56b96505",
   "metadata": {},
   "source": [
    "#### To check on retrival score from ususal approach of embedding input and retrieving from knowledge base"
   ]
  },
  {
   "cell_type": "code",
   "execution_count": 8,
   "id": "11ea9744-788c-4c38-9b9d-0f270c89168e",
   "metadata": {},
   "outputs": [],
   "source": [
    "query = \"Who and all seeked advice from Krishna in this\"\n",
    "query_embedding = create_embeddings(query)\n",
    "results = index.query(\n",
    "    namespace=\"unaltered\",\n",
    "    vector=query_embedding,\n",
    "    top_k=3,\n",
    "    include_values=False,\n",
    "    include_metadata=True\n",
    ")"
   ]
  },
  {
   "cell_type": "markdown",
   "id": "33fa7e71-d6fa-4377-85e8-04361cb233e2",
   "metadata": {},
   "source": [
    "##### Below are results from 1st approach of embedding contents asis and comparing against user query embeddings"
   ]
  },
  {
   "cell_type": "code",
   "execution_count": 9,
   "id": "2a2c6d47-a66f-457d-a6d0-e43e4838d190",
   "metadata": {},
   "outputs": [
    {
     "name": "stdout",
     "output_type": "stream",
     "text": [
      "0.836120367\n",
      "0.824133754\n",
      "0.817277193\n"
     ]
    }
   ],
   "source": [
    "print(results[\"matches\"][0][\"score\"])\n",
    "print(results[\"matches\"][1][\"score\"])\n",
    "print(results[\"matches\"][2][\"score\"])"
   ]
  },
  {
   "cell_type": "markdown",
   "id": "b802a878-315c-486a-97e6-2944049fbe54",
   "metadata": {},
   "source": [
    "##### Below are results from 2nd approach of embedding contets asis and then comaring against processed user query(NLP - NLTK proccessed) emebddings"
   ]
  },
  {
   "cell_type": "code",
   "execution_count": 10,
   "id": "d4e310fd-fd63-4059-8b2d-840cd6746932",
   "metadata": {},
   "outputs": [
    {
     "name": "stdout",
     "output_type": "stream",
     "text": [
      "0.836811602\n",
      "0.825062931\n",
      "0.815428615\n"
     ]
    }
   ],
   "source": [
    "from helper.docs_helper import process_input\n",
    "query = \"Who and all seeked advice from Krishna in this\"\n",
    "query = process_input(query)\n",
    "query_embedding = create_embeddings(query)\n",
    "results = index.query(\n",
    "    namespace=\"unaltered\",\n",
    "    vector=query_embedding,\n",
    "    top_k=3,\n",
    "    include_values=False,\n",
    "    include_metadata=True\n",
    ")\n",
    "print(results[\"matches\"][0][\"score\"])\n",
    "print(results[\"matches\"][1][\"score\"])\n",
    "print(results[\"matches\"][2][\"score\"])"
   ]
  },
  {
   "cell_type": "markdown",
   "id": "7ed02cd9-54a0-4b08-8ef7-6ec7faf96b77",
   "metadata": {},
   "source": [
    "## Below additional imports are to handle NLTK cleaning steps of actual contents and to vectorize the same"
   ]
  },
  {
   "cell_type": "code",
   "execution_count": 11,
   "id": "3d244354-1701-4c4c-939b-b1f0771a2614",
   "metadata": {},
   "outputs": [
    {
     "data": {
      "text/plain": [
       "{'text': 'Mahabharata\\nManuscript illustration of the Battle of\\nKurukshetra\\nInformation\\nReligion Hinduism\\nAuthor Vyasa\\nLanguageSanskrit\\nPeriod Principally compiled in 3rd century\\nBCE–4th century CE\\nChapters 18 Parvas\\nVerses 200,000\\nFull text\\nMahabharata at Sanskrit Wikisource\\n Mahabharata at English Wikisource\\nKrishna and Arjuna at Kurukshetra,\\n18th–19th-century painting\\nModern depiction of Vyasa narrating\\nthe Mahābhārata to Ganesha at the\\nMurudeshwara temple, Karnataka.\\nMahabharata\\nThe Mahābhārata (/məˌhɑːˈbɑː rətə, ˌmɑːhə-/ m ə -HAH-BAR- ə -t ə , MAH-\\nh ə -;[1][2][3][4] Sanskrit: म ह ा भ ा र त म ् , IAST: Mahābhāratam, pronounced\\n[m ɐɦ a ːˈ b ʱ a ː r ɐt̪ɐ m]) is one of the two major Smriti texts and Sanskrit epics of\\nancient India revered in Hinduism, the other being the Rāmāya ṇ a.[5] It narratesthe events and aftermath of the Kurukshetra War, a war of succession between\\ntwo groups of princely cousins, the Kauravas and the Pā ṇḍ avas.'}"
      ]
     },
     "execution_count": 11,
     "metadata": {},
     "output_type": "execute_result"
    }
   ],
   "source": [
    "from handle_vectors import store_vectors_processed, create_vectors_processed\n",
    "chunks = chunk_data(pdf_contents)\n",
    "processed_chunks = [process_input(chunk) for chunk in chunks]\n",
    "vectors = create_vectors_processed(original_chunks=chunks,processed_chunks=processed_chunks)\n",
    "vectors[0][\"metadata\"]"
   ]
  },
  {
   "cell_type": "code",
   "execution_count": 12,
   "id": "65b65712-b363-4175-848e-a5104e19bcdd",
   "metadata": {},
   "outputs": [],
   "source": [
    "index = store_vectors_processed(vectors)"
   ]
  },
  {
   "cell_type": "markdown",
   "id": "48764720-10ab-4508-8dfc-f93c6d7841da",
   "metadata": {},
   "source": [
    "#### on executing above cell, vectors will be stored in PineCone vector db, under same Index \"mahabharata\" but diffent name space \"processed\""
   ]
  },
  {
   "cell_type": "code",
   "execution_count": 13,
   "id": "1519ce65-4e25-4f90-b550-a90803adeea0",
   "metadata": {},
   "outputs": [],
   "source": [
    "from helper.docs_helper import process_input\n",
    "query = \"Who and all seeked advice from Krishna in this\"\n",
    "# query = process_input(query)\n",
    "query_embedding = create_embeddings(query)\n",
    "results = index.query(\n",
    "    namespace=\"processed\",\n",
    "    vector=query_embedding,\n",
    "    top_k=3,\n",
    "    include_values=False,\n",
    "    include_metadata=True\n",
    ")"
   ]
  },
  {
   "cell_type": "markdown",
   "id": "ebc7db88-ec0a-41ab-95c4-5cde1f388718",
   "metadata": {},
   "source": [
    "##### Below are results from 3rd approach of embedding NLTK proccessed contets and then comparing against user query emebddings(as-is)."
   ]
  },
  {
   "cell_type": "code",
   "execution_count": 14,
   "id": "0766870c-84a8-4554-938f-926a2f802ca7",
   "metadata": {},
   "outputs": [
    {
     "name": "stdout",
     "output_type": "stream",
     "text": [
      "0.839606\n",
      "0.825872838\n",
      "0.817132533\n"
     ]
    }
   ],
   "source": [
    "print(results[\"matches\"][0][\"score\"])\n",
    "print(results[\"matches\"][1][\"score\"])\n",
    "print(results[\"matches\"][2][\"score\"])"
   ]
  },
  {
   "cell_type": "code",
   "execution_count": 15,
   "id": "e7503f39-a639-469c-83f0-d80656054413",
   "metadata": {},
   "outputs": [],
   "source": [
    "from helper.docs_helper import process_input\n",
    "query = \"Who and all seeked advice from Krishna in this\"\n",
    "query = process_input(query)\n",
    "query_embedding = create_embeddings(query)\n",
    "results = index.query(\n",
    "    namespace=\"processed\",\n",
    "    vector=query_embedding,\n",
    "    top_k=3,\n",
    "    include_values=False,\n",
    "    include_metadata=True\n",
    ")"
   ]
  },
  {
   "cell_type": "markdown",
   "id": "f2d28c7c-c7d8-4386-a421-4ab3240be3ab",
   "metadata": {},
   "source": [
    "##### Below are results from 4th approach of embedding NLTK proccessed contents and then comparing against NLTK processed user query emebddings."
   ]
  },
  {
   "cell_type": "code",
   "execution_count": 16,
   "id": "5d05655e-aa05-4bc2-9a48-e823d3fa877e",
   "metadata": {},
   "outputs": [
    {
     "name": "stdout",
     "output_type": "stream",
     "text": [
      "0.850452602\n",
      "0.835941494\n",
      "0.824624062\n"
     ]
    }
   ],
   "source": [
    "print(results[\"matches\"][0][\"score\"])\n",
    "print(results[\"matches\"][1][\"score\"])\n",
    "print(results[\"matches\"][2][\"score\"])"
   ]
  },
  {
   "cell_type": "code",
   "execution_count": 17,
   "id": "8d329cc6-f09c-477a-b203-979f726862d4",
   "metadata": {},
   "outputs": [
    {
     "data": {
      "text/plain": [
       "{'id': '35',\n",
       " 'metadata': {'text': \"king; he seeks Krishna's advice. Krishna advises him, \"\n",
       "                      'and after due preparation and the elimination of some '\n",
       "                      'opposition,\\n'\n",
       "                      'Yudhishthira carries out the rājasūya yagna ceremony; '\n",
       "                      'he is thus recognized as pre-eminent among kings.\\n'\n",
       "                      'The Pandavas have a new palace built for them, by Maya '\n",
       "                      'the Danava.[64] They invite their Kaurava cousins to '\n",
       "                      'Indraprastha.Duryodhana walks round the palace, and '\n",
       "                      'mistakes a glossy floor for water, and will not step '\n",
       "                      'in. After being told of his error, he\\n'\n",
       "                      'then sees a pond and assumes it is not water and falls '\n",
       "                      'in. Bhima, Arjuna, the twins and the servants laugh at '\n",
       "                      'him.[65] In popularadaptations, this insult is wrongly '\n",
       "                      'attributed to Draupadi, even though in the Sanskrit '\n",
       "                      'epic, it was the Pandavas (except\\n'\n",
       "                      'Lakshagraha (the house of lac)\\n'\n",
       "                      'Marriage to Draupadi\\n'\n",
       "                      'Indraprastha\\n'\n",
       "                      'Draupadi humiliated\\n'\n",
       "                      'A scene from the Mahabharata war,\\n'\n",
       "                      'Angkor Wat: A black stone relief\\n'\n",
       "                      'depicting several men wearing a\\n'\n",
       "                      'crown and a dhoti, fighting with\\n'\n",
       "                      'spears, swords, and bows. A chariot'},\n",
       " 'score': 0.850452602,\n",
       " 'values': []}"
      ]
     },
     "execution_count": 17,
     "metadata": {},
     "output_type": "execute_result"
    }
   ],
   "source": [
    "results[\"matches\"][0]\n"
   ]
  },
  {
   "cell_type": "markdown",
   "id": "0fcb20db-32d3-4cd8-866b-b5cb42fb3bf7",
   "metadata": {},
   "source": [
    "#### with above data, metadata text is still maintained without change, so earlier cleaning steps will not affect in further steps"
   ]
  },
  {
   "cell_type": "code",
   "execution_count": 19,
   "id": "51fb88d3-5bdf-4381-a3f4-88c0f61ba388",
   "metadata": {},
   "outputs": [
    {
     "data": {
      "text/plain": [
       "''"
      ]
     },
     "execution_count": 19,
     "metadata": {},
     "output_type": "execute_result"
    }
   ],
   "source": [
    "\"\""
   ]
  },
  {
   "cell_type": "code",
   "execution_count": null,
   "id": "a07031f8-df8f-4368-962d-d7efcfdf7e4d",
   "metadata": {},
   "outputs": [],
   "source": []
  }
 ],
 "metadata": {
  "kernelspec": {
   "display_name": "Python 3 (ipykernel)",
   "language": "python",
   "name": "python3"
  },
  "language_info": {
   "codemirror_mode": {
    "name": "ipython",
    "version": 3
   },
   "file_extension": ".py",
   "mimetype": "text/x-python",
   "name": "python",
   "nbconvert_exporter": "python",
   "pygments_lexer": "ipython3",
   "version": "3.12.0"
  }
 },
 "nbformat": 4,
 "nbformat_minor": 5
}
